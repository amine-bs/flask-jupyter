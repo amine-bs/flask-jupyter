{
 "cells": [
  {
   "cell_type": "markdown",
   "id": "3ef69fa5-3929-4329-a76f-238e4312ff70",
   "metadata": {},
   "source": [
    "**Flask**\n",
    "\n",
    "Dans ce tutoriel, on explore le développement d'un simple site web en utilisant Flask pour déployer un modèle de classification d'images.\n",
    "\n",
    "La répertoire doit contenir deux dossiers: \"templates\" et \"static\".\n",
    "\n",
    "- Le dossier ``templates`` contient les templates html que flask utilisera pour construire les pages web. \n",
    "\n",
    "- Le dossier ``static`` contient des fichiers d'affichage (image, ficher css..)\n",
    "\n",
    "On commence par importer la classe Flask et définir une instance qui sera notre application.\n",
    "Le site contient deux pages: une page d'accueil et une page pour afficher les résulats.\n",
    "Ainsi, on va définir une fonction et un template html pour chaque page.\n",
    "Le code de chaque fonction est précédée par la synatxe ```@app.route(chemin:str, methods:list)```. Cette expression indique à Flask que cette fonction est chargée de requêtes qui vont au chemin indiqué et qui utilisent la liste de méthodes indiquée.\n",
    "\n",
    "Chaque fonction donne en sortie ```render_template('page.html')``` qui indique à Flask la template à interpréter pour cette fonction.\n",
    "\n",
    "La fonction **predict** retourne également des variables (pred, user_image) qui serviront à définir les valeurs des variables output et user_image dans le fichier predict.html.\n",
    "\n",
    "Le fichier ``reponse.html`` montre un example de réponse.\n",
    "\n"
   ]
  },
  {
   "cell_type": "code",
   "execution_count": 7,
   "id": "f61db751-4060-4a01-a89f-0e988105784d",
   "metadata": {},
   "outputs": [
    {
     "name": "stdout",
     "output_type": "stream",
     "text": [
      "Requirement already satisfied: flask in /opt/mamba/lib/python3.9/site-packages (2.2.2)\n",
      "Requirement already satisfied: Jinja2>=3.0 in /opt/mamba/lib/python3.9/site-packages (from flask) (3.1.2)\n",
      "Requirement already satisfied: importlib-metadata>=3.6.0 in /opt/mamba/lib/python3.9/site-packages (from flask) (4.11.4)\n",
      "Requirement already satisfied: itsdangerous>=2.0 in /opt/mamba/lib/python3.9/site-packages (from flask) (2.1.2)\n",
      "Requirement already satisfied: click>=8.0 in /opt/mamba/lib/python3.9/site-packages (from flask) (8.1.3)\n",
      "Requirement already satisfied: Werkzeug>=2.2.2 in /opt/mamba/lib/python3.9/site-packages (from flask) (2.2.2)\n",
      "Requirement already satisfied: zipp>=0.5 in /opt/mamba/lib/python3.9/site-packages (from importlib-metadata>=3.6.0->flask) (3.8.1)\n",
      "Requirement already satisfied: MarkupSafe>=2.0 in /opt/mamba/lib/python3.9/site-packages (from Jinja2>=3.0->flask) (2.1.1)\n"
     ]
    }
   ],
   "source": [
    "!pip install flask"
   ]
  },
  {
   "cell_type": "code",
   "execution_count": null,
   "id": "333f4c35-d8dd-466a-96ca-e7eb83ad3911",
   "metadata": {},
   "outputs": [],
   "source": [
    "from io import BytesIO\n",
    "from flask import Flask, render_template, request\n",
    "from utils import load_device, load_model, predict, load_image\n",
    "from PIL import Image\n",
    "import os\n",
    "\n",
    "def read_image(file):\n",
    "    img = Image.open(BytesIO(file))\n",
    "    return img\n",
    "\n",
    "app = Flask(__name__)\n",
    "\n",
    "device = load_device()\n",
    "model = load_model(device)\n",
    "\n",
    "\n",
    "@app.route(\"/\", methods=[\"GET\", \"POST\"])\n",
    "def home():\n",
    "    return render_template('home.html')\n",
    "\n",
    "@app.route(\"/predict\", methods=[\"GET\", \"POST\"])\n",
    "def predict_flask():\n",
    "    if request.method == \"POST\":\n",
    "        file = request.files['file']\n",
    "        filename = file.filename\n",
    "        file_path = os.path.join('static', filename)\n",
    "        file.save(file_path)\n",
    "        img = load_image(file_path)\n",
    "        pred = predict(img, model, device)\n",
    "    return render_template(\"predict.html\", output=pred, user_image = file_path)\n"
   ]
  },
  {
   "cell_type": "markdown",
   "id": "49bbcf34-9c54-4524-9dff-04a742810b55",
   "metadata": {},
   "source": [
    "On exécute la commande suivante pour lancer l'application.\n",
    "Le fichier ```reponse.html``` montre un exemple de réponse."
   ]
  },
  {
   "cell_type": "code",
   "execution_count": 4,
   "id": "679bb612-4e5b-4337-827a-41f5bbe720ab",
   "metadata": {},
   "outputs": [
    {
     "name": "stdout",
     "output_type": "stream",
     "text": [
      " * Serving Flask app 'main'\n",
      " * Debug mode: off\n",
      "\u001b[31m\u001b[1mWARNING: This is a development server. Do not use it in a production deployment. Use a production WSGI server instead.\u001b[0m\n",
      " * Running on http://127.0.0.1:5000\n",
      "\u001b[33mPress CTRL+C to quit\u001b[0m\n",
      "127.0.0.1 - - [19/Sep/2022 16:53:04] \"POST /predict HTTP/1.1\" 200 -\n",
      "^C\n"
     ]
    }
   ],
   "source": [
    "!flask --app main run"
   ]
  },
  {
   "cell_type": "markdown",
   "id": "ea4b3bbc-d54d-4bb4-bf6d-fd67fc9892ac",
   "metadata": {},
   "source": [
    "reponse.html montre la réponse pour l'image \"ship.png\""
   ]
  }
 ],
 "metadata": {
  "kernelspec": {
   "display_name": "Python 3 (ipykernel)",
   "language": "python",
   "name": "python3"
  },
  "language_info": {
   "codemirror_mode": {
    "name": "ipython",
    "version": 3
   },
   "file_extension": ".py",
   "mimetype": "text/x-python",
   "name": "python",
   "nbconvert_exporter": "python",
   "pygments_lexer": "ipython3",
   "version": "3.9.0"
  }
 },
 "nbformat": 4,
 "nbformat_minor": 5
}
